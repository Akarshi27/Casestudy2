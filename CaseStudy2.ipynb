{
  "nbformat": 4,
  "nbformat_minor": 0,
  "metadata": {
    "colab": {
      "provenance": []
    },
    "kernelspec": {
      "name": "python3",
      "display_name": "Python 3"
    },
    "language_info": {
      "name": "python"
    }
  },
  "cells": [
    {
      "cell_type": "code",
      "execution_count": 1,
      "metadata": {
        "colab": {
          "base_uri": "https://localhost:8080/",
          "height": 0
        },
        "id": "Uir6sHEJTWiB",
        "outputId": "ed8dc08f-7278-4f23-8c1c-386954a62693"
      },
      "outputs": [
        {
          "output_type": "stream",
          "name": "stdout",
          "text": [
            "\n",
            "LED Brightness Control\n",
            "==============================\n",
            "Controls:\n",
            "- Type 'increase' to increase brightness.\n",
            "- Type 'decrease' to decrease brightness.\n",
            "- Type 'exit' to stop the program.\n",
            "- Brightness changes in steps of 2.\n",
            "- The range is from 0 (MIN) to 10 (MAX).\n",
            "============================== \n",
            "\n",
            "Brightness: [|||||     ] 5/10\n",
            "Enter command: increase\n",
            "Brightness increased to 7/10\n",
            "\n",
            "Brightness: [|||||||   ] 7/10\n",
            "Enter command: exit\n",
            "Exiting LED Brightness Control...\n"
          ]
        }
      ],
      "source": [
        "import time\n",
        "\n",
        "# Step 1: Define parameters\n",
        "MIN_BRIGHTNESS = 0   # Minimum brightness level\n",
        "MAX_BRIGHTNESS = 10  # Maximum brightness level\n",
        "STEP_SIZE = 2        # Step size for brightness change\n",
        "\n",
        "# Step 2: Initial brightness\n",
        "brightness_level = 5  # Start at a middle value\n",
        "\n",
        "# Step 3: Display instructions\n",
        "print(\"\\nLED Brightness Control\")\n",
        "print(\"=\" * 30)\n",
        "print(\"Controls:\")\n",
        "print(\"- Type 'increase' to increase brightness.\")\n",
        "print(\"- Type 'decrease' to decrease brightness.\")\n",
        "print(\"- Type 'exit' to stop the program.\")\n",
        "print(\"- Brightness changes in steps of 2.\")\n",
        "print(\"- The range is from 0 (MIN) to 10 (MAX).\")\n",
        "print(\"=\" * 30, \"\\n\")\n",
        "\n",
        "# Step 4: Continuous Loop\n",
        "while True:\n",
        "    # Step 6: Visual representation using \"|\"\n",
        "    bar = \"|\" * brightness_level + \" \" * (MAX_BRIGHTNESS - brightness_level)\n",
        "    print(f\"Brightness: [{bar}] {brightness_level}/10\")\n",
        "\n",
        "    # Step 4: Request user command\n",
        "    command = input(\"Enter command: \").strip().lower()\n",
        "\n",
        "    if command == \"increase\":\n",
        "        if brightness_level + STEP_SIZE <= MAX_BRIGHTNESS:\n",
        "            brightness_level += STEP_SIZE\n",
        "            print(f\"Brightness increased to {brightness_level}/10\\n\")\n",
        "        else:\n",
        "            print(\"Brightness is already at maximum (10/10)\\n\")\n",
        "\n",
        "    elif command == \"decrease\":\n",
        "        if brightness_level - STEP_SIZE >= MIN_BRIGHTNESS:\n",
        "            brightness_level -= STEP_SIZE\n",
        "            print(f\"Brightness decreased to {brightness_level}/10\\n\")\n",
        "        else:\n",
        "            print(\"Brightness is already at minimum (0/10)\\n\")\n",
        "\n",
        "    elif command == \"exit\":\n",
        "        print(\"Exiting LED Brightness Control...\")\n",
        "        break  # Step 3: Exit the loop\n",
        "\n",
        "    else:\n",
        "        print(\"Invalid command! Please use 'increase', 'decrease', or 'exit'.\\n\")\n",
        "\n",
        "    # Step 7: Wait a moment before next input\n",
        "    time.sleep(0.5)\n"
      ]
    }
  ]
}